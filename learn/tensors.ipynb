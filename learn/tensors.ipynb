{
 "cells": [
  {
   "cell_type": "code",
   "execution_count": 2,
   "metadata": {},
   "outputs": [],
   "source": [
    "import torch\n",
    "import numpy as np"
   ]
  },
  {
   "cell_type": "code",
   "execution_count": 3,
   "metadata": {},
   "outputs": [],
   "source": [
    "data = [[1, 2],[3, 4]]\n",
    "x_data = torch.tensor(data)"
   ]
  },
  {
   "cell_type": "code",
   "execution_count": 4,
   "metadata": {},
   "outputs": [
    {
     "data": {
      "text/plain": [
       "tensor([[1, 2],\n",
       "        [3, 4]])"
      ]
     },
     "execution_count": 4,
     "metadata": {},
     "output_type": "execute_result"
    }
   ],
   "source": [
    "x_data"
   ]
  },
  {
   "cell_type": "code",
   "execution_count": 5,
   "metadata": {},
   "outputs": [
    {
     "name": "stdout",
     "output_type": "stream",
     "text": [
      "Ones Tensor: \n",
      " tensor([[1, 1],\n",
      "        [1, 1]]) \n",
      "\n",
      "Random Tensor: \n",
      " tensor([[0.8484, 0.5636],\n",
      "        [0.0335, 0.1902]]) \n",
      "\n"
     ]
    }
   ],
   "source": [
    "x_ones = torch.ones_like(x_data) # retains the properties of x_data\n",
    "print(f\"Ones Tensor: \\n {x_ones} \\n\")\n",
    "\n",
    "x_rand = torch.rand_like(x_data, dtype=torch.float) # overrides the datatype of x_data\n",
    "print(f\"Random Tensor: \\n {x_rand} \\n\")"
   ]
  },
  {
   "cell_type": "code",
   "execution_count": 7,
   "metadata": {},
   "outputs": [
    {
     "data": {
      "text/plain": [
       "tensor([[1., 1., 1., 1.],\n",
       "        [1., 1., 1., 1.],\n",
       "        [1., 1., 1., 1.],\n",
       "        [1., 1., 1., 1.]])"
      ]
     },
     "execution_count": 7,
     "metadata": {},
     "output_type": "execute_result"
    }
   ],
   "source": [
    "tensor = torch.ones(4, 4)\n",
    "tensor"
   ]
  },
  {
   "cell_type": "code",
   "execution_count": 14,
   "metadata": {},
   "outputs": [
    {
     "data": {
      "text/plain": [
       "tensor([[1., 1., 1., 2.],\n",
       "        [1., 1., 1., 0.],\n",
       "        [1., 1., 1., 0.],\n",
       "        [1., 1., 1., 5.]])"
      ]
     },
     "execution_count": 14,
     "metadata": {},
     "output_type": "execute_result"
    }
   ],
   "source": [
    "tensor[0,-1] = 2\n",
    "tensor"
   ]
  },
  {
   "cell_type": "code",
   "execution_count": 18,
   "metadata": {},
   "outputs": [
    {
     "data": {
      "text/plain": [
       "tensor([[1., 1., 1., 2., 1., 1., 1., 2., 1., 1., 1., 2., 1., 1., 1., 2., 1., 1.,\n",
       "         1., 2., 1., 1., 1., 2., 1., 1., 1., 2., 1., 1., 1., 2., 1., 1., 1., 2.],\n",
       "        [1., 1., 1., 0., 1., 1., 1., 0., 1., 1., 1., 0., 1., 1., 1., 0., 1., 1.,\n",
       "         1., 0., 1., 1., 1., 0., 1., 1., 1., 0., 1., 1., 1., 0., 1., 1., 1., 0.],\n",
       "        [1., 1., 1., 0., 1., 1., 1., 0., 1., 1., 1., 0., 1., 1., 1., 0., 1., 1.,\n",
       "         1., 0., 1., 1., 1., 0., 1., 1., 1., 0., 1., 1., 1., 0., 1., 1., 1., 0.],\n",
       "        [1., 1., 1., 5., 1., 1., 1., 5., 1., 1., 1., 5., 1., 1., 1., 5., 1., 1.,\n",
       "         1., 5., 1., 1., 1., 5., 1., 1., 1., 5., 1., 1., 1., 5., 1., 1., 1., 5.],\n",
       "        [1., 1., 1., 2., 1., 1., 1., 2., 1., 1., 1., 2., 1., 1., 1., 2., 1., 1.,\n",
       "         1., 2., 1., 1., 1., 2., 1., 1., 1., 2., 1., 1., 1., 2., 1., 1., 1., 2.],\n",
       "        [1., 1., 1., 0., 1., 1., 1., 0., 1., 1., 1., 0., 1., 1., 1., 0., 1., 1.,\n",
       "         1., 0., 1., 1., 1., 0., 1., 1., 1., 0., 1., 1., 1., 0., 1., 1., 1., 0.],\n",
       "        [1., 1., 1., 0., 1., 1., 1., 0., 1., 1., 1., 0., 1., 1., 1., 0., 1., 1.,\n",
       "         1., 0., 1., 1., 1., 0., 1., 1., 1., 0., 1., 1., 1., 0., 1., 1., 1., 0.],\n",
       "        [1., 1., 1., 5., 1., 1., 1., 5., 1., 1., 1., 5., 1., 1., 1., 5., 1., 1.,\n",
       "         1., 5., 1., 1., 1., 5., 1., 1., 1., 5., 1., 1., 1., 5., 1., 1., 1., 5.],\n",
       "        [1., 1., 1., 2., 1., 1., 1., 2., 1., 1., 1., 2., 1., 1., 1., 2., 1., 1.,\n",
       "         1., 2., 1., 1., 1., 2., 1., 1., 1., 2., 1., 1., 1., 2., 1., 1., 1., 2.],\n",
       "        [1., 1., 1., 0., 1., 1., 1., 0., 1., 1., 1., 0., 1., 1., 1., 0., 1., 1.,\n",
       "         1., 0., 1., 1., 1., 0., 1., 1., 1., 0., 1., 1., 1., 0., 1., 1., 1., 0.],\n",
       "        [1., 1., 1., 0., 1., 1., 1., 0., 1., 1., 1., 0., 1., 1., 1., 0., 1., 1.,\n",
       "         1., 0., 1., 1., 1., 0., 1., 1., 1., 0., 1., 1., 1., 0., 1., 1., 1., 0.],\n",
       "        [1., 1., 1., 5., 1., 1., 1., 5., 1., 1., 1., 5., 1., 1., 1., 5., 1., 1.,\n",
       "         1., 5., 1., 1., 1., 5., 1., 1., 1., 5., 1., 1., 1., 5., 1., 1., 1., 5.]])"
      ]
     },
     "execution_count": 18,
     "metadata": {},
     "output_type": "execute_result"
    }
   ],
   "source": [
    "tensor = torch.cat([tensor, tensor, tensor], dim = 0)\n",
    "tensor"
   ]
  },
  {
   "cell_type": "code",
   "execution_count": 20,
   "metadata": {},
   "outputs": [
    {
     "data": {
      "text/plain": [
       "tensor([[ 63.,  27.,  27., 117.,  63.,  27.,  27., 117.,  63.,  27.,  27., 117.],\n",
       "        [ 27.,  27.,  27.,  27.,  27.,  27.,  27.,  27.,  27.,  27.,  27.,  27.],\n",
       "        [ 27.,  27.,  27.,  27.,  27.,  27.,  27.,  27.,  27.,  27.,  27.,  27.],\n",
       "        [117.,  27.,  27., 252., 117.,  27.,  27., 252., 117.,  27.,  27., 252.],\n",
       "        [ 63.,  27.,  27., 117.,  63.,  27.,  27., 117.,  63.,  27.,  27., 117.],\n",
       "        [ 27.,  27.,  27.,  27.,  27.,  27.,  27.,  27.,  27.,  27.,  27.,  27.],\n",
       "        [ 27.,  27.,  27.,  27.,  27.,  27.,  27.,  27.,  27.,  27.,  27.,  27.],\n",
       "        [117.,  27.,  27., 252., 117.,  27.,  27., 252., 117.,  27.,  27., 252.],\n",
       "        [ 63.,  27.,  27., 117.,  63.,  27.,  27., 117.,  63.,  27.,  27., 117.],\n",
       "        [ 27.,  27.,  27.,  27.,  27.,  27.,  27.,  27.,  27.,  27.,  27.,  27.],\n",
       "        [ 27.,  27.,  27.,  27.,  27.,  27.,  27.,  27.,  27.,  27.,  27.,  27.],\n",
       "        [117.,  27.,  27., 252., 117.,  27.,  27., 252., 117.,  27.,  27., 252.]])"
      ]
     },
     "execution_count": 20,
     "metadata": {},
     "output_type": "execute_result"
    }
   ],
   "source": [
    "y1 = tensor @ tensor.T\n",
    "y1"
   ]
  }
 ],
 "metadata": {
  "kernelspec": {
   "display_name": ".venv",
   "language": "python",
   "name": "python3"
  },
  "language_info": {
   "codemirror_mode": {
    "name": "ipython",
    "version": 3
   },
   "file_extension": ".py",
   "mimetype": "text/x-python",
   "name": "python",
   "nbconvert_exporter": "python",
   "pygments_lexer": "ipython3",
   "version": "3.10.12"
  }
 },
 "nbformat": 4,
 "nbformat_minor": 2
}
